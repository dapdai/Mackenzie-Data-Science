{
 "cells": [
  {
   "cell_type": "markdown",
   "metadata": {},
   "source": [
    "\n",
    "### Emissão de carbono é uma expressão que faz referência ao lançamento de gases de efeito estufa na atmosfera, principalmente o dióxido de carbono (CO2) — ou gás carbônico.\n",
    "\n",
    "\n",
    "### Os gases de efeito estufa são assim chamados por reterem parte da radiação solar que chega ao planeta, tornando-o mais quente. A organização WWF Brasil explica que esse fenômeno, por si só, é natural. O problema é o volume de gases oriundo da interferência humana no meio ambiente. O excesso faz a temperatura da Terra aumentar de modo preocupante.\n",
    "\n",
    "\n",
    "### O aquecimento global pode ter (e tem) numerosas consequências, como aumento de eventos climáticos extremos. Tsunamis, períodos prolongados de seca e inundações fora de época são alguns exemplos. O aumento de doenças respiratórias também é um efeito possível."
   ]
  },
  {
   "cell_type": "markdown",
   "metadata": {},
   "source": [
    "## Importar as bibliotecas necessárias"
   ]
  },
  {
   "cell_type": "code",
   "execution_count": 1,
   "metadata": {},
   "outputs": [],
   "source": [
    "import requests\n",
    "import pandas as pd\n",
    "import matplotlib.pyplot as plt\n",
    "import seaborn as sns\n",
    "import numpy as np\n",
    "from IPython.display import display_html\n",
    "\n",
    "import sys\n",
    "if sys.version_info[0] < 3: \n",
    "    from StringIO import StringIO\n",
    "else:\n",
    "    from io import StringIO"
   ]
  },
  {
   "cell_type": "markdown",
   "metadata": {},
   "source": [
    "## Ler o dataset"
   ]
  },
  {
   "cell_type": "code",
   "execution_count": 2,
   "metadata": {},
   "outputs": [],
   "source": [
    "LOCAL_EXEC = False\n",
    "\n",
    "if LOCAL_EXEC:\n",
    "    df = pd.read_csv('data/co2_emissions_tonnes_per_person.csv')\n",
    "else:\n",
    "    data = requests.get('https://raw.githubusercontent.com/samuelsemmler/Mackenzie-Data-Science/develop/ParadigmasDeLinguagensDeProgramacaoParaCienciaDeDados/trilha4/data/co2_emissions_tonnes_per_person.csv').text\n",
    "    data = StringIO(data)\n",
    "    df = pd.read_csv(data)"
   ]
  },
  {
   "cell_type": "code",
   "execution_count": 3,
   "metadata": {},
   "outputs": [
    {
     "data": {
      "text/html": [
       "<div>\n",
       "<style scoped>\n",
       "    .dataframe tbody tr th:only-of-type {\n",
       "        vertical-align: middle;\n",
       "    }\n",
       "\n",
       "    .dataframe tbody tr th {\n",
       "        vertical-align: top;\n",
       "    }\n",
       "\n",
       "    .dataframe thead th {\n",
       "        text-align: right;\n",
       "    }\n",
       "</style>\n",
       "<table border=\"1\" class=\"dataframe\">\n",
       "  <thead>\n",
       "    <tr style=\"text-align: right;\">\n",
       "      <th></th>\n",
       "      <th>country</th>\n",
       "      <th>1799</th>\n",
       "      <th>1800</th>\n",
       "      <th>1801</th>\n",
       "      <th>1802</th>\n",
       "      <th>1803</th>\n",
       "      <th>1804</th>\n",
       "      <th>1805</th>\n",
       "      <th>1806</th>\n",
       "      <th>1807</th>\n",
       "      <th>...</th>\n",
       "      <th>2008</th>\n",
       "      <th>2009</th>\n",
       "      <th>2010</th>\n",
       "      <th>2011</th>\n",
       "      <th>2012</th>\n",
       "      <th>2013</th>\n",
       "      <th>2014</th>\n",
       "      <th>2015</th>\n",
       "      <th>2016</th>\n",
       "      <th>2017</th>\n",
       "    </tr>\n",
       "  </thead>\n",
       "  <tbody>\n",
       "    <tr>\n",
       "      <th>0</th>\n",
       "      <td>Afghanistan</td>\n",
       "      <td>NaN</td>\n",
       "      <td>NaN</td>\n",
       "      <td>NaN</td>\n",
       "      <td>NaN</td>\n",
       "      <td>NaN</td>\n",
       "      <td>NaN</td>\n",
       "      <td>NaN</td>\n",
       "      <td>NaN</td>\n",
       "      <td>NaN</td>\n",
       "      <td>...</td>\n",
       "      <td>0.238</td>\n",
       "      <td>0.29</td>\n",
       "      <td>0.406</td>\n",
       "      <td>0.345</td>\n",
       "      <td>0.28</td>\n",
       "      <td>0.253</td>\n",
       "      <td>0.262</td>\n",
       "      <td>0.245</td>\n",
       "      <td>0.247</td>\n",
       "      <td>0.254</td>\n",
       "    </tr>\n",
       "    <tr>\n",
       "      <th>1</th>\n",
       "      <td>Angola</td>\n",
       "      <td>NaN</td>\n",
       "      <td>NaN</td>\n",
       "      <td>NaN</td>\n",
       "      <td>NaN</td>\n",
       "      <td>NaN</td>\n",
       "      <td>NaN</td>\n",
       "      <td>NaN</td>\n",
       "      <td>NaN</td>\n",
       "      <td>NaN</td>\n",
       "      <td>...</td>\n",
       "      <td>1.230</td>\n",
       "      <td>1.24</td>\n",
       "      <td>1.250</td>\n",
       "      <td>1.350</td>\n",
       "      <td>1.28</td>\n",
       "      <td>1.640</td>\n",
       "      <td>1.220</td>\n",
       "      <td>1.180</td>\n",
       "      <td>1.140</td>\n",
       "      <td>1.120</td>\n",
       "    </tr>\n",
       "    <tr>\n",
       "      <th>2</th>\n",
       "      <td>Albania</td>\n",
       "      <td>NaN</td>\n",
       "      <td>NaN</td>\n",
       "      <td>NaN</td>\n",
       "      <td>NaN</td>\n",
       "      <td>NaN</td>\n",
       "      <td>NaN</td>\n",
       "      <td>NaN</td>\n",
       "      <td>NaN</td>\n",
       "      <td>NaN</td>\n",
       "      <td>...</td>\n",
       "      <td>1.470</td>\n",
       "      <td>1.56</td>\n",
       "      <td>1.790</td>\n",
       "      <td>1.690</td>\n",
       "      <td>1.69</td>\n",
       "      <td>1.900</td>\n",
       "      <td>1.600</td>\n",
       "      <td>1.570</td>\n",
       "      <td>1.610</td>\n",
       "      <td>1.590</td>\n",
       "    </tr>\n",
       "    <tr>\n",
       "      <th>3</th>\n",
       "      <td>Andorra</td>\n",
       "      <td>NaN</td>\n",
       "      <td>NaN</td>\n",
       "      <td>NaN</td>\n",
       "      <td>NaN</td>\n",
       "      <td>NaN</td>\n",
       "      <td>NaN</td>\n",
       "      <td>NaN</td>\n",
       "      <td>NaN</td>\n",
       "      <td>NaN</td>\n",
       "      <td>...</td>\n",
       "      <td>6.120</td>\n",
       "      <td>6.12</td>\n",
       "      <td>5.870</td>\n",
       "      <td>5.920</td>\n",
       "      <td>5.90</td>\n",
       "      <td>5.830</td>\n",
       "      <td>5.970</td>\n",
       "      <td>6.070</td>\n",
       "      <td>6.270</td>\n",
       "      <td>6.120</td>\n",
       "    </tr>\n",
       "    <tr>\n",
       "      <th>4</th>\n",
       "      <td>United Arab Emirates</td>\n",
       "      <td>NaN</td>\n",
       "      <td>NaN</td>\n",
       "      <td>NaN</td>\n",
       "      <td>NaN</td>\n",
       "      <td>NaN</td>\n",
       "      <td>NaN</td>\n",
       "      <td>NaN</td>\n",
       "      <td>NaN</td>\n",
       "      <td>NaN</td>\n",
       "      <td>...</td>\n",
       "      <td>20.900</td>\n",
       "      <td>18.30</td>\n",
       "      <td>18.900</td>\n",
       "      <td>23.800</td>\n",
       "      <td>23.70</td>\n",
       "      <td>24.200</td>\n",
       "      <td>20.700</td>\n",
       "      <td>21.700</td>\n",
       "      <td>21.100</td>\n",
       "      <td>21.400</td>\n",
       "    </tr>\n",
       "  </tbody>\n",
       "</table>\n",
       "<p>5 rows × 220 columns</p>\n",
       "</div>"
      ],
      "text/plain": [
       "                country  1799  1800  1801  1802  1803  1804  1805  1806  1807  \\\n",
       "0           Afghanistan   NaN   NaN   NaN   NaN   NaN   NaN   NaN   NaN   NaN   \n",
       "1                Angola   NaN   NaN   NaN   NaN   NaN   NaN   NaN   NaN   NaN   \n",
       "2               Albania   NaN   NaN   NaN   NaN   NaN   NaN   NaN   NaN   NaN   \n",
       "3               Andorra   NaN   NaN   NaN   NaN   NaN   NaN   NaN   NaN   NaN   \n",
       "4  United Arab Emirates   NaN   NaN   NaN   NaN   NaN   NaN   NaN   NaN   NaN   \n",
       "\n",
       "   ...    2008   2009    2010    2011   2012    2013    2014    2015    2016  \\\n",
       "0  ...   0.238   0.29   0.406   0.345   0.28   0.253   0.262   0.245   0.247   \n",
       "1  ...   1.230   1.24   1.250   1.350   1.28   1.640   1.220   1.180   1.140   \n",
       "2  ...   1.470   1.56   1.790   1.690   1.69   1.900   1.600   1.570   1.610   \n",
       "3  ...   6.120   6.12   5.870   5.920   5.90   5.830   5.970   6.070   6.270   \n",
       "4  ...  20.900  18.30  18.900  23.800  23.70  24.200  20.700  21.700  21.100   \n",
       "\n",
       "     2017  \n",
       "0   0.254  \n",
       "1   1.120  \n",
       "2   1.590  \n",
       "3   6.120  \n",
       "4  21.400  \n",
       "\n",
       "[5 rows x 220 columns]"
      ]
     },
     "execution_count": 3,
     "metadata": {},
     "output_type": "execute_result"
    }
   ],
   "source": [
    "df.head()"
   ]
  },
  {
   "cell_type": "markdown",
   "metadata": {},
   "source": [
    "## Perguntas"
   ]
  },
  {
   "cell_type": "markdown",
   "metadata": {},
   "source": [
    "### Quais foram os 10 países que mais emitiram CO2 em 1990?"
   ]
  },
  {
   "cell_type": "code",
   "execution_count": 4,
   "metadata": {},
   "outputs": [
    {
     "data": {
      "text/html": [
       "<div>\n",
       "<style scoped>\n",
       "    .dataframe tbody tr th:only-of-type {\n",
       "        vertical-align: middle;\n",
       "    }\n",
       "\n",
       "    .dataframe tbody tr th {\n",
       "        vertical-align: top;\n",
       "    }\n",
       "\n",
       "    .dataframe thead th {\n",
       "        text-align: right;\n",
       "    }\n",
       "</style>\n",
       "<table border=\"1\" class=\"dataframe\">\n",
       "  <thead>\n",
       "    <tr style=\"text-align: right;\">\n",
       "      <th></th>\n",
       "      <th>country</th>\n",
       "      <th>1990</th>\n",
       "    </tr>\n",
       "  </thead>\n",
       "  <tbody>\n",
       "    <tr>\n",
       "      <th>145</th>\n",
       "      <td>Qatar</td>\n",
       "      <td>36.2</td>\n",
       "    </tr>\n",
       "    <tr>\n",
       "      <th>105</th>\n",
       "      <td>Luxembourg</td>\n",
       "      <td>32.3</td>\n",
       "    </tr>\n",
       "    <tr>\n",
       "      <th>4</th>\n",
       "      <td>United Arab Emirates</td>\n",
       "      <td>29.3</td>\n",
       "    </tr>\n",
       "    <tr>\n",
       "      <th>17</th>\n",
       "      <td>Bahrain</td>\n",
       "      <td>23.3</td>\n",
       "    </tr>\n",
       "    <tr>\n",
       "      <th>54</th>\n",
       "      <td>Estonia</td>\n",
       "      <td>22.0</td>\n",
       "    </tr>\n",
       "  </tbody>\n",
       "</table>\n",
       "</div>"
      ],
      "text/plain": [
       "                  country  1990\n",
       "145                 Qatar  36.2\n",
       "105            Luxembourg  32.3\n",
       "4    United Arab Emirates  29.3\n",
       "17                Bahrain  23.3\n",
       "54                Estonia  22.0"
      ]
     },
     "execution_count": 4,
     "metadata": {},
     "output_type": "execute_result"
    }
   ],
   "source": [
    "df_1990_largest = df[['country', '1990']].nlargest(10, '1990')\n",
    "df_1990_largest.head()"
   ]
  },
  {
   "cell_type": "code",
   "execution_count": 5,
   "metadata": {},
   "outputs": [
    {
     "data": {
      "text/plain": [
       "<AxesSubplot:xlabel='country', ylabel='1990'>"
      ]
     },
     "execution_count": 5,
     "metadata": {},
     "output_type": "execute_result"
    },
    {
     "data": {
      "image/png": "[encoded data removed]",
      "text/plain": [
       "<Figure size 2000x1000 with 1 Axes>"
      ]
     },
     "metadata": {},
     "output_type": "display_data"
    }
   ],
   "source": [
    "fig = plt.figure(figsize=(20, 10))\n",
    "sns.barplot(\n",
    "    data=df_1990_largest,\n",
    "    x=df_1990_largest['country'],\n",
    "    y=df_1990_largest['1990'],\n",
    "    palette='Spectral'\n",
    ")"
   ]
  },
  {
   "cell_type": "markdown",
   "metadata": {},
   "source": [
    "### Quais foram os 10 países que menos emitiram CO2 em 1990?"
   ]
  },
  {
   "cell_type": "code",
   "execution_count": 6,
   "metadata": {},
   "outputs": [
    {
     "data": {
      "text/html": [
       "<div>\n",
       "<style scoped>\n",
       "    .dataframe tbody tr th:only-of-type {\n",
       "        vertical-align: middle;\n",
       "    }\n",
       "\n",
       "    .dataframe tbody tr th {\n",
       "        vertical-align: top;\n",
       "    }\n",
       "\n",
       "    .dataframe thead th {\n",
       "        text-align: right;\n",
       "    }\n",
       "</style>\n",
       "<table border=\"1\" class=\"dataframe\">\n",
       "  <thead>\n",
       "    <tr style=\"text-align: right;\">\n",
       "      <th></th>\n",
       "      <th>country</th>\n",
       "      <th>1990</th>\n",
       "    </tr>\n",
       "  </thead>\n",
       "  <tbody>\n",
       "    <tr>\n",
       "      <th>34</th>\n",
       "      <td>Cameroon</td>\n",
       "      <td>0.00465</td>\n",
       "    </tr>\n",
       "    <tr>\n",
       "      <th>11</th>\n",
       "      <td>Burundi</td>\n",
       "      <td>0.04280</td>\n",
       "    </tr>\n",
       "    <tr>\n",
       "      <th>180</th>\n",
       "      <td>Uganda</td>\n",
       "      <td>0.04370</td>\n",
       "    </tr>\n",
       "    <tr>\n",
       "      <th>114</th>\n",
       "      <td>Mali</td>\n",
       "      <td>0.05030</td>\n",
       "    </tr>\n",
       "    <tr>\n",
       "      <th>130</th>\n",
       "      <td>Nepal</td>\n",
       "      <td>0.05530</td>\n",
       "    </tr>\n",
       "  </tbody>\n",
       "</table>\n",
       "</div>"
      ],
      "text/plain": [
       "      country     1990\n",
       "34   Cameroon  0.00465\n",
       "11    Burundi  0.04280\n",
       "180    Uganda  0.04370\n",
       "114      Mali  0.05030\n",
       "130     Nepal  0.05530"
      ]
     },
     "execution_count": 6,
     "metadata": {},
     "output_type": "execute_result"
    }
   ],
   "source": [
    "df_1990_smallest = df[['country', '1990']].nsmallest(10, '1990')\n",
    "df_1990_smallest.head()"
   ]
  },
  {
   "cell_type": "code",
   "execution_count": 7,
   "metadata": {},
   "outputs": [
    {
     "data": {
      "text/plain": [
       "<AxesSubplot:xlabel='country', ylabel='1990'>"
      ]
     },
     "execution_count": 7,
     "metadata": {},
     "output_type": "execute_result"
    },
    {
     "data": {
      "image/png": "[encoded data removed]",
      "text/plain": [
       "<Figure size 2000x1000 with 1 Axes>"
      ]
     },
     "metadata": {},
     "output_type": "display_data"
    }
   ],
   "source": [
    "fig = plt.figure(figsize=(20, 10))\n",
    "sns.barplot(\n",
    "    data=df_1990_smallest,\n",
    "    x=df_1990_smallest['country'],\n",
    "    y=df_1990_smallest['1990'],\n",
    "    palette='coolwarm'\n",
    ")"
   ]
  },
  {
   "cell_type": "markdown",
   "metadata": {},
   "source": [
    "### Quais foram os 10 países que mais emitiram CO2 em 2017?"
   ]
  },
  {
   "cell_type": "code",
   "execution_count": 8,
   "metadata": {},
   "outputs": [
    {
     "data": {
      "text/html": [
       "<div>\n",
       "<style scoped>\n",
       "    .dataframe tbody tr th:only-of-type {\n",
       "        vertical-align: middle;\n",
       "    }\n",
       "\n",
       "    .dataframe tbody tr th {\n",
       "        vertical-align: top;\n",
       "    }\n",
       "\n",
       "    .dataframe thead th {\n",
       "        text-align: right;\n",
       "    }\n",
       "</style>\n",
       "<table border=\"1\" class=\"dataframe\">\n",
       "  <thead>\n",
       "    <tr style=\"text-align: right;\">\n",
       "      <th></th>\n",
       "      <th>country</th>\n",
       "      <th>2017</th>\n",
       "    </tr>\n",
       "  </thead>\n",
       "  <tbody>\n",
       "    <tr>\n",
       "      <th>145</th>\n",
       "      <td>Qatar</td>\n",
       "      <td>38.0</td>\n",
       "    </tr>\n",
       "    <tr>\n",
       "      <th>174</th>\n",
       "      <td>Trinidad and Tobago</td>\n",
       "      <td>31.3</td>\n",
       "    </tr>\n",
       "    <tr>\n",
       "      <th>95</th>\n",
       "      <td>Kuwait</td>\n",
       "      <td>23.7</td>\n",
       "    </tr>\n",
       "    <tr>\n",
       "      <th>4</th>\n",
       "      <td>United Arab Emirates</td>\n",
       "      <td>21.4</td>\n",
       "    </tr>\n",
       "    <tr>\n",
       "      <th>17</th>\n",
       "      <td>Bahrain</td>\n",
       "      <td>19.8</td>\n",
       "    </tr>\n",
       "  </tbody>\n",
       "</table>\n",
       "</div>"
      ],
      "text/plain": [
       "                  country  2017\n",
       "145                 Qatar  38.0\n",
       "174   Trinidad and Tobago  31.3\n",
       "95                 Kuwait  23.7\n",
       "4    United Arab Emirates  21.4\n",
       "17                Bahrain  19.8"
      ]
     },
     "execution_count": 8,
     "metadata": {},
     "output_type": "execute_result"
    }
   ],
   "source": [
    "df_2017_largest = df[['country', '2017']].nlargest(10, '2017')\n",
    "df_2017_largest.head()"
   ]
  },
  {
   "cell_type": "code",
   "execution_count": 9,
   "metadata": {},
   "outputs": [
    {
     "data": {
      "text/plain": [
       "<AxesSubplot:xlabel='country', ylabel='2017'>"
      ]
     },
     "execution_count": 9,
     "metadata": {},
     "output_type": "execute_result"
    },
    {
     "data": {
      "image/png": "[encoded data removed]",
      "text/plain": [
       "<Figure size 2000x1000 with 1 Axes>"
      ]
     },
     "metadata": {},
     "output_type": "display_data"
    }
   ],
   "source": [
    "fig = plt.figure(figsize=(20, 10))\n",
    "sns.barplot(\n",
    "    data=df_2017_largest,\n",
    "    x=df_2017_largest['country'],\n",
    "    y=df_2017_largest['2017'],\n",
    "    palette='Spectral'\n",
    ")"
   ]
  },
  {
   "cell_type": "markdown",
   "metadata": {},
   "source": [
    "### Quais foram os 10 países que menos emitiram CO2 em 2017?"
   ]
  },
  {
   "cell_type": "code",
   "execution_count": 10,
   "metadata": {},
   "outputs": [
    {
     "data": {
      "text/html": [
       "<div>\n",
       "<style scoped>\n",
       "    .dataframe tbody tr th:only-of-type {\n",
       "        vertical-align: middle;\n",
       "    }\n",
       "\n",
       "    .dataframe tbody tr th {\n",
       "        vertical-align: top;\n",
       "    }\n",
       "\n",
       "    .dataframe thead th {\n",
       "        text-align: right;\n",
       "    }\n",
       "</style>\n",
       "<table border=\"1\" class=\"dataframe\">\n",
       "  <thead>\n",
       "    <tr style=\"text-align: right;\">\n",
       "      <th></th>\n",
       "      <th>country</th>\n",
       "      <th>2017</th>\n",
       "    </tr>\n",
       "  </thead>\n",
       "  <tbody>\n",
       "    <tr>\n",
       "      <th>35</th>\n",
       "      <td>Congo, Dem. Rep.</td>\n",
       "      <td>0.0243</td>\n",
       "    </tr>\n",
       "    <tr>\n",
       "      <th>156</th>\n",
       "      <td>Somalia</td>\n",
       "      <td>0.0466</td>\n",
       "    </tr>\n",
       "    <tr>\n",
       "      <th>11</th>\n",
       "      <td>Burundi</td>\n",
       "      <td>0.0467</td>\n",
       "    </tr>\n",
       "    <tr>\n",
       "      <th>28</th>\n",
       "      <td>Central African Republic</td>\n",
       "      <td>0.0651</td>\n",
       "    </tr>\n",
       "    <tr>\n",
       "      <th>167</th>\n",
       "      <td>Chad</td>\n",
       "      <td>0.0656</td>\n",
       "    </tr>\n",
       "  </tbody>\n",
       "</table>\n",
       "</div>"
      ],
      "text/plain": [
       "                      country    2017\n",
       "35           Congo, Dem. Rep.  0.0243\n",
       "156                   Somalia  0.0466\n",
       "11                    Burundi  0.0467\n",
       "28   Central African Republic  0.0651\n",
       "167                      Chad  0.0656"
      ]
     },
     "execution_count": 10,
     "metadata": {},
     "output_type": "execute_result"
    }
   ],
   "source": [
    "df_2017_smallest = df[['country', '2017']].nsmallest(10, '2017')\n",
    "df_2017_smallest.head()"
   ]
  },
  {
   "cell_type": "code",
   "execution_count": 11,
   "metadata": {},
   "outputs": [
    {
     "data": {
      "text/plain": [
       "<AxesSubplot:xlabel='country', ylabel='2017'>"
      ]
     },
     "execution_count": 11,
     "metadata": {},
     "output_type": "execute_result"
    },
    {
     "data": {
      "image/png": "[encoded data removed]",
      "text/plain": [
       "<Figure size 2000x1000 with 1 Axes>"
      ]
     },
     "metadata": {},
     "output_type": "display_data"
    }
   ],
   "source": [
    "fig = plt.figure(figsize=(20, 10))\n",
    "sns.barplot(\n",
    "    data=df_2017_smallest,\n",
    "    x=df_2017_smallest['country'],\n",
    "    y=df_2017_smallest['2017'],\n",
    "    palette='coolwarm'\n",
    ")"
   ]
  },
  {
   "cell_type": "markdown",
   "metadata": {},
   "source": [
    "### Qual é a emissão do brasil entre 1970 e 2017?"
   ]
  },
  {
   "cell_type": "code",
   "execution_count": 12,
   "metadata": {},
   "outputs": [
    {
     "data": {
      "text/html": [
       "<div>\n",
       "<style scoped>\n",
       "    .dataframe tbody tr th:only-of-type {\n",
       "        vertical-align: middle;\n",
       "    }\n",
       "\n",
       "    .dataframe tbody tr th {\n",
       "        vertical-align: top;\n",
       "    }\n",
       "\n",
       "    .dataframe thead th {\n",
       "        text-align: right;\n",
       "    }\n",
       "</style>\n",
       "<table border=\"1\" class=\"dataframe\">\n",
       "  <thead>\n",
       "    <tr style=\"text-align: right;\">\n",
       "      <th></th>\n",
       "      <th>country</th>\n",
       "      <th>1970</th>\n",
       "      <th>1971</th>\n",
       "      <th>1972</th>\n",
       "      <th>1973</th>\n",
       "      <th>1974</th>\n",
       "      <th>1975</th>\n",
       "      <th>1976</th>\n",
       "      <th>1977</th>\n",
       "      <th>1978</th>\n",
       "      <th>...</th>\n",
       "      <th>2008</th>\n",
       "      <th>2009</th>\n",
       "      <th>2010</th>\n",
       "      <th>2011</th>\n",
       "      <th>2012</th>\n",
       "      <th>2013</th>\n",
       "      <th>2014</th>\n",
       "      <th>2015</th>\n",
       "      <th>2016</th>\n",
       "      <th>2017</th>\n",
       "    </tr>\n",
       "  </thead>\n",
       "  <tbody>\n",
       "    <tr>\n",
       "      <th>23</th>\n",
       "      <td>Brazil</td>\n",
       "      <td>1.05</td>\n",
       "      <td>1.14</td>\n",
       "      <td>1.29</td>\n",
       "      <td>1.37</td>\n",
       "      <td>1.4</td>\n",
       "      <td>1.41</td>\n",
       "      <td>1.44</td>\n",
       "      <td>1.53</td>\n",
       "      <td>1.59</td>\n",
       "      <td>...</td>\n",
       "      <td>1.86</td>\n",
       "      <td>2.1</td>\n",
       "      <td>2.18</td>\n",
       "      <td>2.31</td>\n",
       "      <td>2.46</td>\n",
       "      <td>2.59</td>\n",
       "      <td>2.42</td>\n",
       "      <td>2.2</td>\n",
       "      <td>2.23</td>\n",
       "      <td>2.18</td>\n",
       "    </tr>\n",
       "  </tbody>\n",
       "</table>\n",
       "<p>1 rows × 49 columns</p>\n",
       "</div>"
      ],
      "text/plain": [
       "   country  1970  1971  1972  1973  1974  1975  1976  1977  1978  ...  2008  \\\n",
       "23  Brazil  1.05  1.14  1.29  1.37   1.4  1.41  1.44  1.53  1.59  ...  1.86   \n",
       "\n",
       "    2009  2010  2011  2012  2013  2014  2015  2016  2017  \n",
       "23   2.1  2.18  2.31  2.46  2.59  2.42   2.2  2.23  2.18  \n",
       "\n",
       "[1 rows x 49 columns]"
      ]
     },
     "execution_count": 12,
     "metadata": {},
     "output_type": "execute_result"
    }
   ],
   "source": [
    "columns = [str(x) for x in list(range(1970, 2018))]\n",
    "columns.insert(0, 'country')\n",
    "df_brasil = df[columns].loc[df['country'] == 'Brazil']\n",
    "df_brasil\n"
   ]
  },
  {
   "cell_type": "code",
   "execution_count": 13,
   "metadata": {},
   "outputs": [
    {
     "data": {
      "text/plain": [
       "<AxesSubplot:>"
      ]
     },
     "execution_count": 13,
     "metadata": {},
     "output_type": "execute_result"
    },
    {
     "data": {
      "image/png": "[encoded data removed]",
      "text/plain": [
       "<Figure size 640x480 with 1 Axes>"
      ]
     },
     "metadata": {},
     "output_type": "display_data"
    }
   ],
   "source": [
    "# get list of values from 1990 to 2017\n",
    "columns.remove('country')\n",
    "sns.lineplot(\n",
    "    data=[df_brasil[x].item() for x in columns],\n",
    ")"
   ]
  },
  {
   "cell_type": "markdown",
   "metadata": {},
   "source": [
    "## Conclusão"
   ]
  },
  {
   "cell_type": "markdown",
   "metadata": {},
   "source": [
    "### Paises que mais emitiram CO2 em 1990 e 2017"
   ]
  },
  {
   "cell_type": "code",
   "execution_count": 14,
   "metadata": {},
   "outputs": [
    {
     "data": {
      "text/html": [
       "<style type=\"text/css\">\n",
       "</style>\n",
       "<table id=\"T_0d9db_\" style='display:inline'>\n",
       "  <caption>Max CO2 1990</caption>\n",
       "  <thead>\n",
       "    <tr>\n",
       "      <th class=\"blank level0\" >&nbsp;</th>\n",
       "      <th class=\"col_heading level0 col0\" >country</th>\n",
       "      <th class=\"col_heading level0 col1\" >1990</th>\n",
       "    </tr>\n",
       "  </thead>\n",
       "  <tbody>\n",
       "    <tr>\n",
       "      <th id=\"T_0d9db_level0_row0\" class=\"row_heading level0 row0\" >145</th>\n",
       "      <td id=\"T_0d9db_row0_col0\" class=\"data row0 col0\" >Qatar</td>\n",
       "      <td id=\"T_0d9db_row0_col1\" class=\"data row0 col1\" >36.200000</td>\n",
       "    </tr>\n",
       "    <tr>\n",
       "      <th id=\"T_0d9db_level0_row1\" class=\"row_heading level0 row1\" >105</th>\n",
       "      <td id=\"T_0d9db_row1_col0\" class=\"data row1 col0\" >Luxembourg</td>\n",
       "      <td id=\"T_0d9db_row1_col1\" class=\"data row1 col1\" >32.300000</td>\n",
       "    </tr>\n",
       "    <tr>\n",
       "      <th id=\"T_0d9db_level0_row2\" class=\"row_heading level0 row2\" >4</th>\n",
       "      <td id=\"T_0d9db_row2_col0\" class=\"data row2 col0\" >United Arab Emirates</td>\n",
       "      <td id=\"T_0d9db_row2_col1\" class=\"data row2 col1\" >29.300000</td>\n",
       "    </tr>\n",
       "    <tr>\n",
       "      <th id=\"T_0d9db_level0_row3\" class=\"row_heading level0 row3\" >17</th>\n",
       "      <td id=\"T_0d9db_row3_col0\" class=\"data row3 col0\" >Bahrain</td>\n",
       "      <td id=\"T_0d9db_row3_col1\" class=\"data row3 col1\" >23.300000</td>\n",
       "    </tr>\n",
       "    <tr>\n",
       "      <th id=\"T_0d9db_level0_row4\" class=\"row_heading level0 row4\" >54</th>\n",
       "      <td id=\"T_0d9db_row4_col0\" class=\"data row4 col0\" >Estonia</td>\n",
       "      <td id=\"T_0d9db_row4_col1\" class=\"data row4 col1\" >22.000000</td>\n",
       "    </tr>\n",
       "    <tr>\n",
       "      <th id=\"T_0d9db_level0_row5\" class=\"row_heading level0 row5\" >25</th>\n",
       "      <td id=\"T_0d9db_row5_col0\" class=\"data row5 col0\" >Brunei</td>\n",
       "      <td id=\"T_0d9db_row5_col1\" class=\"data row5 col1\" >19.900000</td>\n",
       "    </tr>\n",
       "    <tr>\n",
       "      <th id=\"T_0d9db_level0_row6\" class=\"row_heading level0 row6\" >183</th>\n",
       "      <td id=\"T_0d9db_row6_col0\" class=\"data row6 col0\" >United States</td>\n",
       "      <td id=\"T_0d9db_row6_col1\" class=\"data row6 col1\" >19.900000</td>\n",
       "    </tr>\n",
       "    <tr>\n",
       "      <th id=\"T_0d9db_level0_row7\" class=\"row_heading level0 row7\" >8</th>\n",
       "      <td id=\"T_0d9db_row7_col0\" class=\"data row7 col0\" >Australia</td>\n",
       "      <td id=\"T_0d9db_row7_col1\" class=\"data row7 col1\" >16.300000</td>\n",
       "    </tr>\n",
       "    <tr>\n",
       "      <th id=\"T_0d9db_level0_row8\" class=\"row_heading level0 row8\" >29</th>\n",
       "      <td id=\"T_0d9db_row8_col0\" class=\"data row8 col0\" >Canada</td>\n",
       "      <td id=\"T_0d9db_row8_col1\" class=\"data row8 col1\" >16.200000</td>\n",
       "    </tr>\n",
       "    <tr>\n",
       "      <th id=\"T_0d9db_level0_row9\" class=\"row_heading level0 row9\" >147</th>\n",
       "      <td id=\"T_0d9db_row9_col0\" class=\"data row9 col0\" >Russia</td>\n",
       "      <td id=\"T_0d9db_row9_col1\" class=\"data row9 col1\" >16.200000</td>\n",
       "    </tr>\n",
       "  </tbody>\n",
       "</table>\n",
       "<style type=\"text/css\">\n",
       "</style>\n",
       "<table id=\"T_ca2cf_\" style='display:inline'>\n",
       "  <caption>Max CO2 2017</caption>\n",
       "  <thead>\n",
       "    <tr>\n",
       "      <th class=\"blank level0\" >&nbsp;</th>\n",
       "      <th class=\"col_heading level0 col0\" >country</th>\n",
       "      <th class=\"col_heading level0 col1\" >2017</th>\n",
       "    </tr>\n",
       "  </thead>\n",
       "  <tbody>\n",
       "    <tr>\n",
       "      <th id=\"T_ca2cf_level0_row0\" class=\"row_heading level0 row0\" >145</th>\n",
       "      <td id=\"T_ca2cf_row0_col0\" class=\"data row0 col0\" >Qatar</td>\n",
       "      <td id=\"T_ca2cf_row0_col1\" class=\"data row0 col1\" >38.000000</td>\n",
       "    </tr>\n",
       "    <tr>\n",
       "      <th id=\"T_ca2cf_level0_row1\" class=\"row_heading level0 row1\" >174</th>\n",
       "      <td id=\"T_ca2cf_row1_col0\" class=\"data row1 col0\" >Trinidad and Tobago</td>\n",
       "      <td id=\"T_ca2cf_row1_col1\" class=\"data row1 col1\" >31.300000</td>\n",
       "    </tr>\n",
       "    <tr>\n",
       "      <th id=\"T_ca2cf_level0_row2\" class=\"row_heading level0 row2\" >95</th>\n",
       "      <td id=\"T_ca2cf_row2_col0\" class=\"data row2 col0\" >Kuwait</td>\n",
       "      <td id=\"T_ca2cf_row2_col1\" class=\"data row2 col1\" >23.700000</td>\n",
       "    </tr>\n",
       "    <tr>\n",
       "      <th id=\"T_ca2cf_level0_row3\" class=\"row_heading level0 row3\" >4</th>\n",
       "      <td id=\"T_ca2cf_row3_col0\" class=\"data row3 col0\" >United Arab Emirates</td>\n",
       "      <td id=\"T_ca2cf_row3_col1\" class=\"data row3 col1\" >21.400000</td>\n",
       "    </tr>\n",
       "    <tr>\n",
       "      <th id=\"T_ca2cf_level0_row4\" class=\"row_heading level0 row4\" >17</th>\n",
       "      <td id=\"T_ca2cf_row4_col0\" class=\"data row4 col0\" >Bahrain</td>\n",
       "      <td id=\"T_ca2cf_row4_col1\" class=\"data row4 col1\" >19.800000</td>\n",
       "    </tr>\n",
       "    <tr>\n",
       "      <th id=\"T_ca2cf_level0_row5\" class=\"row_heading level0 row5\" >25</th>\n",
       "      <td id=\"T_ca2cf_row5_col0\" class=\"data row5 col0\" >Brunei</td>\n",
       "      <td id=\"T_ca2cf_row5_col1\" class=\"data row5 col1\" >18.500000</td>\n",
       "    </tr>\n",
       "    <tr>\n",
       "      <th id=\"T_ca2cf_level0_row6\" class=\"row_heading level0 row6\" >149</th>\n",
       "      <td id=\"T_ca2cf_row6_col0\" class=\"data row6 col0\" >Saudi Arabia</td>\n",
       "      <td id=\"T_ca2cf_row6_col1\" class=\"data row6 col1\" >18.400000</td>\n",
       "    </tr>\n",
       "    <tr>\n",
       "      <th id=\"T_ca2cf_level0_row7\" class=\"row_heading level0 row7\" >88</th>\n",
       "      <td id=\"T_ca2cf_row7_col0\" class=\"data row7 col0\" >Kazakhstan</td>\n",
       "      <td id=\"T_ca2cf_row7_col1\" class=\"data row7 col1\" >17.600000</td>\n",
       "    </tr>\n",
       "    <tr>\n",
       "      <th id=\"T_ca2cf_level0_row8\" class=\"row_heading level0 row8\" >8</th>\n",
       "      <td id=\"T_ca2cf_row8_col0\" class=\"data row8 col0\" >Australia</td>\n",
       "      <td id=\"T_ca2cf_row8_col1\" class=\"data row8 col1\" >16.900000</td>\n",
       "    </tr>\n",
       "    <tr>\n",
       "      <th id=\"T_ca2cf_level0_row9\" class=\"row_heading level0 row9\" >183</th>\n",
       "      <td id=\"T_ca2cf_row9_col0\" class=\"data row9 col0\" >United States</td>\n",
       "      <td id=\"T_ca2cf_row9_col1\" class=\"data row9 col1\" >16.600000</td>\n",
       "    </tr>\n",
       "  </tbody>\n",
       "</table>\n"
      ]
     },
     "metadata": {},
     "output_type": "display_data"
    }
   ],
   "source": [
    "df1 = df_1990_largest.copy()\n",
    "df2 = df_2017_largest.copy()\n",
    "\n",
    "df1_styler = df1.style.set_table_attributes(\"style='display:inline'\").set_caption('Max CO2 1990')\n",
    "df2_styler = df2.style.set_table_attributes(\"style='display:inline'\").set_caption('Max CO2 2017')\n",
    "\n",
    "display_html(df1_styler._repr_html_()+df2_styler._repr_html_(), raw=True)"
   ]
  },
  {
   "cell_type": "markdown",
   "metadata": {},
   "source": [
    "> Os países citados acima foram os que mais emitiram CO2 no ano de 1990 e no ano de 2017, por este motivo, podemos dizer que são os que mais contribuem para mudanças climáticas no mundo."
   ]
  },
  {
   "cell_type": "markdown",
   "metadata": {},
   "source": [
    "### Paises que menos emitiram CO2 em 1990 e 2017"
   ]
  },
  {
   "cell_type": "code",
   "execution_count": 15,
   "metadata": {},
   "outputs": [
    {
     "data": {
      "text/html": [
       "<style type=\"text/css\">\n",
       "</style>\n",
       "<table id=\"T_3e66d_\" style='display:inline'>\n",
       "  <caption>Max CO2 1990</caption>\n",
       "  <thead>\n",
       "    <tr>\n",
       "      <th class=\"blank level0\" >&nbsp;</th>\n",
       "      <th class=\"col_heading level0 col0\" >country</th>\n",
       "      <th class=\"col_heading level0 col1\" >1990</th>\n",
       "    </tr>\n",
       "  </thead>\n",
       "  <tbody>\n",
       "    <tr>\n",
       "      <th id=\"T_3e66d_level0_row0\" class=\"row_heading level0 row0\" >34</th>\n",
       "      <td id=\"T_3e66d_row0_col0\" class=\"data row0 col0\" >Cameroon</td>\n",
       "      <td id=\"T_3e66d_row0_col1\" class=\"data row0 col1\" >0.004650</td>\n",
       "    </tr>\n",
       "    <tr>\n",
       "      <th id=\"T_3e66d_level0_row1\" class=\"row_heading level0 row1\" >11</th>\n",
       "      <td id=\"T_3e66d_row1_col0\" class=\"data row1 col0\" >Burundi</td>\n",
       "      <td id=\"T_3e66d_row1_col1\" class=\"data row1 col1\" >0.042800</td>\n",
       "    </tr>\n",
       "    <tr>\n",
       "      <th id=\"T_3e66d_level0_row2\" class=\"row_heading level0 row2\" >180</th>\n",
       "      <td id=\"T_3e66d_row2_col0\" class=\"data row2 col0\" >Uganda</td>\n",
       "      <td id=\"T_3e66d_row2_col1\" class=\"data row2 col1\" >0.043700</td>\n",
       "    </tr>\n",
       "    <tr>\n",
       "      <th id=\"T_3e66d_level0_row3\" class=\"row_heading level0 row3\" >114</th>\n",
       "      <td id=\"T_3e66d_row3_col0\" class=\"data row3 col0\" >Mali</td>\n",
       "      <td id=\"T_3e66d_row3_col1\" class=\"data row3 col1\" >0.050300</td>\n",
       "    </tr>\n",
       "    <tr>\n",
       "      <th id=\"T_3e66d_level0_row4\" class=\"row_heading level0 row4\" >130</th>\n",
       "      <td id=\"T_3e66d_row4_col0\" class=\"data row4 col0\" >Nepal</td>\n",
       "      <td id=\"T_3e66d_row4_col1\" class=\"data row4 col1\" >0.055300</td>\n",
       "    </tr>\n",
       "    <tr>\n",
       "      <th id=\"T_3e66d_level0_row5\" class=\"row_heading level0 row5\" >55</th>\n",
       "      <td id=\"T_3e66d_row5_col0\" class=\"data row5 col0\" >Ethiopia</td>\n",
       "      <td id=\"T_3e66d_row5_col1\" class=\"data row5 col1\" >0.059700</td>\n",
       "    </tr>\n",
       "    <tr>\n",
       "      <th id=\"T_3e66d_level0_row6\" class=\"row_heading level0 row6\" >167</th>\n",
       "      <td id=\"T_3e66d_row6_col0\" class=\"data row6 col0\" >Chad</td>\n",
       "      <td id=\"T_3e66d_row6_col1\" class=\"data row6 col1\" >0.062500</td>\n",
       "    </tr>\n",
       "    <tr>\n",
       "      <th id=\"T_3e66d_level0_row7\" class=\"row_heading level0 row7\" >148</th>\n",
       "      <td id=\"T_3e66d_row7_col0\" class=\"data row7 col0\" >Rwanda</td>\n",
       "      <td id=\"T_3e66d_row7_col1\" class=\"data row7 col1\" >0.066700</td>\n",
       "    </tr>\n",
       "    <tr>\n",
       "      <th id=\"T_3e66d_level0_row8\" class=\"row_heading level0 row8\" >125</th>\n",
       "      <td id=\"T_3e66d_row8_col0\" class=\"data row8 col0\" >Niger</td>\n",
       "      <td id=\"T_3e66d_row8_col1\" class=\"data row8 col1\" >0.068800</td>\n",
       "    </tr>\n",
       "    <tr>\n",
       "      <th id=\"T_3e66d_level0_row9\" class=\"row_heading level0 row9\" >14</th>\n",
       "      <td id=\"T_3e66d_row9_col0\" class=\"data row9 col0\" >Burkina Faso</td>\n",
       "      <td id=\"T_3e66d_row9_col1\" class=\"data row9 col1\" >0.069300</td>\n",
       "    </tr>\n",
       "  </tbody>\n",
       "</table>\n",
       "<style type=\"text/css\">\n",
       "</style>\n",
       "<table id=\"T_5a7f0_\" style='display:inline'>\n",
       "  <caption>Max CO2 2017</caption>\n",
       "  <thead>\n",
       "    <tr>\n",
       "      <th class=\"blank level0\" >&nbsp;</th>\n",
       "      <th class=\"col_heading level0 col0\" >country</th>\n",
       "      <th class=\"col_heading level0 col1\" >2017</th>\n",
       "    </tr>\n",
       "  </thead>\n",
       "  <tbody>\n",
       "    <tr>\n",
       "      <th id=\"T_5a7f0_level0_row0\" class=\"row_heading level0 row0\" >35</th>\n",
       "      <td id=\"T_5a7f0_row0_col0\" class=\"data row0 col0\" >Congo, Dem. Rep.</td>\n",
       "      <td id=\"T_5a7f0_row0_col1\" class=\"data row0 col1\" >0.024300</td>\n",
       "    </tr>\n",
       "    <tr>\n",
       "      <th id=\"T_5a7f0_level0_row1\" class=\"row_heading level0 row1\" >156</th>\n",
       "      <td id=\"T_5a7f0_row1_col0\" class=\"data row1 col0\" >Somalia</td>\n",
       "      <td id=\"T_5a7f0_row1_col1\" class=\"data row1 col1\" >0.046600</td>\n",
       "    </tr>\n",
       "    <tr>\n",
       "      <th id=\"T_5a7f0_level0_row2\" class=\"row_heading level0 row2\" >11</th>\n",
       "      <td id=\"T_5a7f0_row2_col0\" class=\"data row2 col0\" >Burundi</td>\n",
       "      <td id=\"T_5a7f0_row2_col1\" class=\"data row2 col1\" >0.046700</td>\n",
       "    </tr>\n",
       "    <tr>\n",
       "      <th id=\"T_5a7f0_level0_row3\" class=\"row_heading level0 row3\" >28</th>\n",
       "      <td id=\"T_5a7f0_row3_col0\" class=\"data row3 col0\" >Central African Republic</td>\n",
       "      <td id=\"T_5a7f0_row3_col1\" class=\"data row3 col1\" >0.065100</td>\n",
       "    </tr>\n",
       "    <tr>\n",
       "      <th id=\"T_5a7f0_level0_row4\" class=\"row_heading level0 row4\" >167</th>\n",
       "      <td id=\"T_5a7f0_row4_col0\" class=\"data row4 col0\" >Chad</td>\n",
       "      <td id=\"T_5a7f0_row4_col1\" class=\"data row4 col1\" >0.065600</td>\n",
       "    </tr>\n",
       "    <tr>\n",
       "      <th id=\"T_5a7f0_level0_row5\" class=\"row_heading level0 row5\" >122</th>\n",
       "      <td id=\"T_5a7f0_row5_col0\" class=\"data row5 col0\" >Malawi</td>\n",
       "      <td id=\"T_5a7f0_row5_col1\" class=\"data row5 col1\" >0.076200</td>\n",
       "    </tr>\n",
       "    <tr>\n",
       "      <th id=\"T_5a7f0_level0_row6\" class=\"row_heading level0 row6\" >148</th>\n",
       "      <td id=\"T_5a7f0_row6_col0\" class=\"data row6 col0\" >Rwanda</td>\n",
       "      <td id=\"T_5a7f0_row6_col1\" class=\"data row6 col1\" >0.091300</td>\n",
       "    </tr>\n",
       "    <tr>\n",
       "      <th id=\"T_5a7f0_level0_row7\" class=\"row_heading level0 row7\" >125</th>\n",
       "      <td id=\"T_5a7f0_row7_col0\" class=\"data row7 col0\" >Niger</td>\n",
       "      <td id=\"T_5a7f0_row7_col1\" class=\"data row7 col1\" >0.103000</td>\n",
       "    </tr>\n",
       "    <tr>\n",
       "      <th id=\"T_5a7f0_level0_row8\" class=\"row_heading level0 row8\" >180</th>\n",
       "      <td id=\"T_5a7f0_row8_col0\" class=\"data row8 col0\" >Uganda</td>\n",
       "      <td id=\"T_5a7f0_row8_col1\" class=\"data row8 col1\" >0.135000</td>\n",
       "    </tr>\n",
       "    <tr>\n",
       "      <th id=\"T_5a7f0_level0_row9\" class=\"row_heading level0 row9\" >55</th>\n",
       "      <td id=\"T_5a7f0_row9_col0\" class=\"data row9 col0\" >Ethiopia</td>\n",
       "      <td id=\"T_5a7f0_row9_col1\" class=\"data row9 col1\" >0.137000</td>\n",
       "    </tr>\n",
       "  </tbody>\n",
       "</table>\n"
      ]
     },
     "metadata": {},
     "output_type": "display_data"
    }
   ],
   "source": [
    "df1 = df_1990_smallest.copy()\n",
    "df2 = df_2017_smallest.copy()\n",
    "\n",
    "df1_styler = df1.style.set_table_attributes(\"style='display:inline'\").set_caption('Min CO2 1990')\n",
    "df2_styler = df2.style.set_table_attributes(\"style='display:inline'\").set_caption('Min CO2 2017')\n",
    "\n",
    "display_html(df1_styler._repr_html_()+df2_styler._repr_html_(), raw=True)"
   ]
  },
  {
   "cell_type": "markdown",
   "metadata": {},
   "source": [
    "### Emissao de CO2 do Brasil entre 1990 e 2017"
   ]
  },
  {
   "cell_type": "code",
   "execution_count": 16,
   "metadata": {},
   "outputs": [
    {
     "data": {
      "text/html": [
       "<div>\n",
       "<style scoped>\n",
       "    .dataframe tbody tr th:only-of-type {\n",
       "        vertical-align: middle;\n",
       "    }\n",
       "\n",
       "    .dataframe tbody tr th {\n",
       "        vertical-align: top;\n",
       "    }\n",
       "\n",
       "    .dataframe thead th {\n",
       "        text-align: right;\n",
       "    }\n",
       "</style>\n",
       "<table border=\"1\" class=\"dataframe\">\n",
       "  <thead>\n",
       "    <tr style=\"text-align: right;\">\n",
       "      <th></th>\n",
       "      <th>country</th>\n",
       "      <th>1970</th>\n",
       "      <th>1971</th>\n",
       "      <th>1972</th>\n",
       "      <th>1973</th>\n",
       "      <th>1974</th>\n",
       "      <th>1975</th>\n",
       "      <th>1976</th>\n",
       "      <th>1977</th>\n",
       "      <th>1978</th>\n",
       "      <th>...</th>\n",
       "      <th>2008</th>\n",
       "      <th>2009</th>\n",
       "      <th>2010</th>\n",
       "      <th>2011</th>\n",
       "      <th>2012</th>\n",
       "      <th>2013</th>\n",
       "      <th>2014</th>\n",
       "      <th>2015</th>\n",
       "      <th>2016</th>\n",
       "      <th>2017</th>\n",
       "    </tr>\n",
       "  </thead>\n",
       "  <tbody>\n",
       "    <tr>\n",
       "      <th>23</th>\n",
       "      <td>Brazil</td>\n",
       "      <td>1.05</td>\n",
       "      <td>1.14</td>\n",
       "      <td>1.29</td>\n",
       "      <td>1.37</td>\n",
       "      <td>1.4</td>\n",
       "      <td>1.41</td>\n",
       "      <td>1.44</td>\n",
       "      <td>1.53</td>\n",
       "      <td>1.59</td>\n",
       "      <td>...</td>\n",
       "      <td>1.86</td>\n",
       "      <td>2.1</td>\n",
       "      <td>2.18</td>\n",
       "      <td>2.31</td>\n",
       "      <td>2.46</td>\n",
       "      <td>2.59</td>\n",
       "      <td>2.42</td>\n",
       "      <td>2.2</td>\n",
       "      <td>2.23</td>\n",
       "      <td>2.18</td>\n",
       "    </tr>\n",
       "  </tbody>\n",
       "</table>\n",
       "<p>1 rows × 49 columns</p>\n",
       "</div>"
      ],
      "text/plain": [
       "   country  1970  1971  1972  1973  1974  1975  1976  1977  1978  ...  2008  \\\n",
       "23  Brazil  1.05  1.14  1.29  1.37   1.4  1.41  1.44  1.53  1.59  ...  1.86   \n",
       "\n",
       "    2009  2010  2011  2012  2013  2014  2015  2016  2017  \n",
       "23   2.1  2.18  2.31  2.46  2.59  2.42   2.2  2.23  2.18  \n",
       "\n",
       "[1 rows x 49 columns]"
      ]
     },
     "execution_count": 16,
     "metadata": {},
     "output_type": "execute_result"
    }
   ],
   "source": [
    "df_brasil"
   ]
  },
  {
   "cell_type": "markdown",
   "metadata": {},
   "source": [
    "#### Compreendendo dados de 1970 a 2017, é possível distinguir que a curva de emissões brasileiras mudou de trajetória algumas vezes nas últimas décadas.\n",
    "\n",
    "> No período de 1990 a 2004, houve um crescimento intenso das emissões. Foram os anos de aumento expressivo no desmatamento da Amazônia, mas também os outros setores cresceram. Entre 2004 e 2010, uma mudança de trajetória em que o combate ao desmatamento surte efeito, e as emissões caem. De 2010 até hoje, temos o cenário atual: emissões estagnadas mais ou menos no mesmo patamar."
   ]
  }
 ],
 "metadata": {
  "kernelspec": {
   "display_name": "Python 3.7.13 ('JupyterEnv')",
   "language": "python",
   "name": "python3"
  },
  "language_info": {
   "codemirror_mode": {
    "name": "ipython",
    "version": 3
   },
   "file_extension": ".py",
   "mimetype": "text/x-python",
   "name": "python",
   "nbconvert_exporter": "python",
   "pygments_lexer": "ipython3",
   "version": "3.7.13"
  },
  "orig_nbformat": 4,
  "vscode": {
   "interpreter": {
    "hash": "0da7cf8764ec75f5295085bab20e676d716a4009c9a7285b1b74951a9a15bca2"
   }
  }
 },
 "nbformat": 4,
 "nbformat_minor": 2
}
